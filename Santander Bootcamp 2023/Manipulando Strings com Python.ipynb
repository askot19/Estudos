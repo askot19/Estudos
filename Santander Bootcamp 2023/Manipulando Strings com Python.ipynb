{
 "cells": [
  {
   "cell_type": "markdown",
   "id": "27c47c27",
   "metadata": {},
   "source": [
    "# Manipulando Strings com Python"
   ]
  },
  {
   "cell_type": "markdown",
   "id": "16f7e1f8",
   "metadata": {},
   "source": [
    "## Conhecendo métodos úteis da classe String\n",
    "\n",
    "Manipulação de caracteres"
   ]
  },
  {
   "cell_type": "code",
   "execution_count": 18,
   "id": "130344e3",
   "metadata": {},
   "outputs": [],
   "source": [
    "curso = 'pYtHon'"
   ]
  },
  {
   "cell_type": "markdown",
   "id": "aa82bcc4",
   "metadata": {},
   "source": [
    "### Maiúsculas e Minúsculas"
   ]
  },
  {
   "cell_type": "code",
   "execution_count": 19,
   "id": "986f9480",
   "metadata": {},
   "outputs": [
    {
     "name": "stdout",
     "output_type": "stream",
     "text": [
      "PYTHON\n"
     ]
    }
   ],
   "source": [
    "# Transforma em maiúsculas\n",
    "print(curso.upper())"
   ]
  },
  {
   "cell_type": "code",
   "execution_count": null,
   "id": "2826ec42",
   "metadata": {},
   "outputs": [],
   "source": [
    "# Transforma em minúsculas\n",
    "print(curso.lower())"
   ]
  },
  {
   "cell_type": "code",
   "execution_count": null,
   "id": "4a580948",
   "metadata": {},
   "outputs": [],
   "source": [
    "# Primeira letra em maiúscula\n",
    "print(curso.title())"
   ]
  },
  {
   "cell_type": "markdown",
   "id": "05801293",
   "metadata": {},
   "source": [
    "### Eliminando espaços em branco"
   ]
  },
  {
   "cell_type": "code",
   "execution_count": 22,
   "id": "8248639c",
   "metadata": {},
   "outputs": [],
   "source": [
    "curso = '      Python   '"
   ]
  },
  {
   "cell_type": "code",
   "execution_count": 23,
   "id": "b8a9b673",
   "metadata": {},
   "outputs": [
    {
     "name": "stdout",
     "output_type": "stream",
     "text": [
      "Python\n"
     ]
    }
   ],
   "source": [
    "# Elimina todos os espaços em branco\n",
    "print(curso.strip())"
   ]
  },
  {
   "cell_type": "code",
   "execution_count": null,
   "id": "13b24c26",
   "metadata": {},
   "outputs": [],
   "source": [
    "# Elimina todos os espaços em branco à esquerda\n",
    "print(curso.lstrip())"
   ]
  },
  {
   "cell_type": "code",
   "execution_count": null,
   "id": "d48696ca",
   "metadata": {},
   "outputs": [],
   "source": [
    "# Elimina todos os espaços em branco à direita\n",
    "print(curso.rstrip())"
   ]
  },
  {
   "cell_type": "markdown",
   "id": "d5b4b41e",
   "metadata": {},
   "source": [
    "### Junções e centralização"
   ]
  },
  {
   "cell_type": "code",
   "execution_count": 24,
   "id": "bf56dcbf",
   "metadata": {},
   "outputs": [],
   "source": [
    "curso = 'Python'"
   ]
  },
  {
   "cell_type": "code",
   "execution_count": 25,
   "id": "37ce462f",
   "metadata": {},
   "outputs": [
    {
     "name": "stdout",
     "output_type": "stream",
     "text": [
      "##Python##\n"
     ]
    }
   ],
   "source": [
    "print(curso.center(10, '#'))"
   ]
  },
  {
   "cell_type": "code",
   "execution_count": 26,
   "id": "00f1f6f5",
   "metadata": {},
   "outputs": [
    {
     "name": "stdout",
     "output_type": "stream",
     "text": [
      "P.y.t.h.o.n\n"
     ]
    }
   ],
   "source": [
    "print('.'.join(curso))"
   ]
  },
  {
   "cell_type": "markdown",
   "id": "27c94b21",
   "metadata": {},
   "source": [
    "---\n",
    "\n",
    "## Fatiamento d String"
   ]
  },
  {
   "cell_type": "code",
   "execution_count": 27,
   "id": "06503aa3",
   "metadata": {},
   "outputs": [
    {
     "name": "stdout",
     "output_type": "stream",
     "text": [
      "nohtyP\n"
     ]
    }
   ],
   "source": [
    "curso = \"Python\"                                                     \n",
    "print(curso[::-1])"
   ]
  },
  {
   "cell_type": "code",
   "execution_count": null,
   "id": "84badaf9",
   "metadata": {},
   "outputs": [],
   "source": []
  }
 ],
 "metadata": {
  "kernelspec": {
   "display_name": "Python 3 (ipykernel)",
   "language": "python",
   "name": "python3"
  },
  "language_info": {
   "codemirror_mode": {
    "name": "ipython",
    "version": 3
   },
   "file_extension": ".py",
   "mimetype": "text/x-python",
   "name": "python",
   "nbconvert_exporter": "python",
   "pygments_lexer": "ipython3",
   "version": "3.11.3"
  }
 },
 "nbformat": 4,
 "nbformat_minor": 5
}

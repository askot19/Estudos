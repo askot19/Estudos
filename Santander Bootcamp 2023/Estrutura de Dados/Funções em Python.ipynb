{
 "cells": [
  {
   "cell_type": "markdown",
   "id": "16ca4d6e",
   "metadata": {},
   "source": [
    "# Funções em Python"
   ]
  },
  {
   "cell_type": "markdown",
   "id": "efc09999",
   "metadata": {},
   "source": [
    "Funções são blocos de códigos identificados por um nome e pode receber uma lista de parâmetros, esses parâmetros podem ou não ter valores padrões. Usar funções torna o código mais legível e possibilita o reaproveitamento de código. Programar baseado em funções, é o mesmo que dizer que estamos programando de maneira estruturada."
   ]
  },
  {
   "cell_type": "code",
   "execution_count": 4,
   "id": "cf68f4e2",
   "metadata": {},
   "outputs": [
    {
     "name": "stdout",
     "output_type": "stream",
     "text": [
      "Digite seu nome: Henrique\n",
      "Seja bem-vindo, Henrique\n"
     ]
    }
   ],
   "source": [
    "def exibir_mensagem():\n",
    "    nome = input('Digite seu nome: ')\n",
    "    print(f'Seja bem-vindo, {nome}')\n",
    "exibir_mensagem()"
   ]
  },
  {
   "cell_type": "code",
   "execution_count": null,
   "id": "710fb301",
   "metadata": {},
   "outputs": [],
   "source": []
  }
 ],
 "metadata": {
  "kernelspec": {
   "display_name": "Python 3 (ipykernel)",
   "language": "python",
   "name": "python3"
  },
  "language_info": {
   "codemirror_mode": {
    "name": "ipython",
    "version": 3
   },
   "file_extension": ".py",
   "mimetype": "text/x-python",
   "name": "python",
   "nbconvert_exporter": "python",
   "pygments_lexer": "ipython3",
   "version": "3.11.3"
  }
 },
 "nbformat": 4,
 "nbformat_minor": 5
}

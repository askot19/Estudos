{
 "cells": [
  {
   "cell_type": "markdown",
   "id": "8b83e1fa",
   "metadata": {},
   "source": [
    "# Trabalhando com Listas em Python\n",
    "\n",
    "* É uma sequência capaz de armazenar qualquer tipo de Objeto\n",
    "* São objetos mutáveis"
   ]
  },
  {
   "cell_type": "code",
   "execution_count": 2,
   "id": "f083cf6c",
   "metadata": {},
   "outputs": [],
   "source": [
    "frutas = ['laranja', ' maca', 'uva']\n",
    "\n",
    "frutas = []\n",
    "\n",
    "letras = list('python')\n",
    "\n",
    "numeros = list(range(10))\n",
    "\n",
    "carro = ['Ferrari', 'F8', 42000000, 2020, 2900, \"São Paulo\", True]"
   ]
  },
  {
   "cell_type": "code",
   "execution_count": 4,
   "id": "ffab7785",
   "metadata": {},
   "outputs": [
    {
     "data": {
      "text/plain": [
       "[0, 2, 4, 6, 64]"
      ]
     },
     "execution_count": 4,
     "metadata": {},
     "output_type": "execute_result"
    }
   ],
   "source": [
    "[n**2 if n > 6 else n for n in range(10) if n % 2 == 0]"
   ]
  }
 ],
 "metadata": {
  "kernelspec": {
   "display_name": "Python 3 (ipykernel)",
   "language": "python",
   "name": "python3"
  },
  "language_info": {
   "codemirror_mode": {
    "name": "ipython",
    "version": 3
   },
   "file_extension": ".py",
   "mimetype": "text/x-python",
   "name": "python",
   "nbconvert_exporter": "python",
   "pygments_lexer": "ipython3",
   "version": "3.11.3"
  }
 },
 "nbformat": 4,
 "nbformat_minor": 5
}

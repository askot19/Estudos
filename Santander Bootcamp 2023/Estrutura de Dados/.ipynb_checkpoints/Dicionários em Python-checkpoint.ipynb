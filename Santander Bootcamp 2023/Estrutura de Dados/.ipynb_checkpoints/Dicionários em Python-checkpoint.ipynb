{
 "cells": [
  {
   "cell_type": "markdown",
   "id": "2848ec35",
   "metadata": {},
   "source": [
    "# Dicionários em Python"
   ]
  },
  {
   "cell_type": "markdown",
   "id": "2ef07d1b",
   "metadata": {},
   "source": [
    "Conjunto não ordenado de pares chave:valor, onde as chaves são únicas em uma dada instância do dicionário. Dicionários são delimitados por chaves: {}, e contém uma lista de pares chave:valor separada por vígulas."
   ]
  },
  {
   "cell_type": "markdown",
   "id": "526309b8",
   "metadata": {},
   "source": [
    "### Criando e acessando dados dos dicionários"
   ]
  },
  {
   "cell_type": "code",
   "execution_count": 5,
   "id": "b40fdf1e",
   "metadata": {},
   "outputs": [],
   "source": [
    "pessoas = dict(nome = ['João', 'Maria', 'Fernanda'], idade = [28, 20, 31])"
   ]
  },
  {
   "cell_type": "code",
   "execution_count": 11,
   "id": "f7800bc0",
   "metadata": {},
   "outputs": [
    {
     "data": {
      "text/plain": [
       "{'nome': ['João', 'Maria', 'Fernanda'], 'idade': [28, 20, 31]}"
      ]
     },
     "execution_count": 11,
     "metadata": {},
     "output_type": "execute_result"
    }
   ],
   "source": [
    "pessoas"
   ]
  },
  {
   "cell_type": "code",
   "execution_count": 12,
   "id": "9d9e127e",
   "metadata": {},
   "outputs": [
    {
     "name": "stdout",
     "output_type": "stream",
     "text": [
      "nome ['João', 'Maria', 'Fernanda']\n",
      "idade [28, 20, 31]\n"
     ]
    }
   ],
   "source": [
    "for pessoa in pessoas:\n",
    "    print(pessoa, pessoas[pessoa])"
   ]
  },
  {
   "cell_type": "code",
   "execution_count": 13,
   "id": "bba16a18",
   "metadata": {
    "scrolled": true
   },
   "outputs": [
    {
     "name": "stdout",
     "output_type": "stream",
     "text": [
      "nome ['João', 'Maria', 'Fernanda']\n",
      "idade [28, 20, 31]\n"
     ]
    }
   ],
   "source": [
    "for pessoa, valor in pessoas.items() :\n",
    "    print(pessoa, valor)"
   ]
  },
  {
   "cell_type": "code",
   "execution_count": 14,
   "id": "38b2d249",
   "metadata": {},
   "outputs": [],
   "source": [
    "pessoas.clear()"
   ]
  },
  {
   "cell_type": "code",
   "execution_count": 15,
   "id": "9fa787a4",
   "metadata": {},
   "outputs": [
    {
     "data": {
      "text/plain": [
       "{}"
      ]
     },
     "execution_count": 15,
     "metadata": {},
     "output_type": "execute_result"
    }
   ],
   "source": [
    "pessoas"
   ]
  },
  {
   "cell_type": "code",
   "execution_count": 16,
   "id": "4c29fa3e",
   "metadata": {},
   "outputs": [],
   "source": [
    "pessoas = dict(nome = ['João', 'Maria', 'Fernanda'], idade = [28, 20, 31])"
   ]
  },
  {
   "cell_type": "code",
   "execution_count": 17,
   "id": "ef045b82",
   "metadata": {},
   "outputs": [],
   "source": [
    "copia = pessoas.copy()"
   ]
  },
  {
   "cell_type": "code",
   "execution_count": 18,
   "id": "733dfe7b",
   "metadata": {},
   "outputs": [
    {
     "data": {
      "text/plain": [
       "{'nome': ['João', 'Maria', 'Fernanda'], 'idade': [28, 20, 31]}"
      ]
     },
     "execution_count": 18,
     "metadata": {},
     "output_type": "execute_result"
    }
   ],
   "source": [
    "copia"
   ]
  },
  {
   "cell_type": "code",
   "execution_count": 19,
   "id": "148176cc",
   "metadata": {},
   "outputs": [],
   "source": [
    "import pandas as pd"
   ]
  },
  {
   "cell_type": "code",
   "execution_count": 20,
   "id": "fc8fca2f",
   "metadata": {},
   "outputs": [],
   "source": [
    "df = pd.DataFrame(pessoas)"
   ]
  },
  {
   "cell_type": "code",
   "execution_count": 21,
   "id": "cc7d4de8",
   "metadata": {},
   "outputs": [
    {
     "data": {
      "text/html": [
       "<div>\n",
       "<style scoped>\n",
       "    .dataframe tbody tr th:only-of-type {\n",
       "        vertical-align: middle;\n",
       "    }\n",
       "\n",
       "    .dataframe tbody tr th {\n",
       "        vertical-align: top;\n",
       "    }\n",
       "\n",
       "    .dataframe thead th {\n",
       "        text-align: right;\n",
       "    }\n",
       "</style>\n",
       "<table border=\"1\" class=\"dataframe\">\n",
       "  <thead>\n",
       "    <tr style=\"text-align: right;\">\n",
       "      <th></th>\n",
       "      <th>nome</th>\n",
       "      <th>idade</th>\n",
       "    </tr>\n",
       "  </thead>\n",
       "  <tbody>\n",
       "    <tr>\n",
       "      <th>0</th>\n",
       "      <td>João</td>\n",
       "      <td>28</td>\n",
       "    </tr>\n",
       "    <tr>\n",
       "      <th>1</th>\n",
       "      <td>Maria</td>\n",
       "      <td>20</td>\n",
       "    </tr>\n",
       "    <tr>\n",
       "      <th>2</th>\n",
       "      <td>Fernanda</td>\n",
       "      <td>31</td>\n",
       "    </tr>\n",
       "  </tbody>\n",
       "</table>\n",
       "</div>"
      ],
      "text/plain": [
       "       nome  idade\n",
       "0      João     28\n",
       "1     Maria     20\n",
       "2  Fernanda     31"
      ]
     },
     "execution_count": 21,
     "metadata": {},
     "output_type": "execute_result"
    }
   ],
   "source": [
    "df"
   ]
  },
  {
   "cell_type": "code",
   "execution_count": 24,
   "id": "f869be9b",
   "metadata": {},
   "outputs": [
    {
     "data": {
      "text/plain": [
       "{'Nome': 'Vazio', 'Idade': 'Vazio', 'Telefone': 'Vazio'}"
      ]
     },
     "execution_count": 24,
     "metadata": {},
     "output_type": "execute_result"
    }
   ],
   "source": [
    "novodict = dict.fromkeys(['Nome', 'Idade', 'Telefone'], 'Vazio')\n",
    "novodict"
   ]
  },
  {
   "cell_type": "code",
   "execution_count": 25,
   "id": "d9943786",
   "metadata": {},
   "outputs": [],
   "source": [
    "carro = {\"marca\": \"Fiat\", \"modelo\": \"palio\", \"placa\": \"ABD-9826\"}"
   ]
  },
  {
   "cell_type": "code",
   "execution_count": 28,
   "id": "eee40c3b",
   "metadata": {},
   "outputs": [
    {
     "data": {
      "text/plain": [
       "'Fiat'"
      ]
     },
     "execution_count": 28,
     "metadata": {},
     "output_type": "execute_result"
    }
   ],
   "source": [
    "carro.get(\"marca\")"
   ]
  }
 ],
 "metadata": {
  "kernelspec": {
   "display_name": "Python 3 (ipykernel)",
   "language": "python",
   "name": "python3"
  },
  "language_info": {
   "codemirror_mode": {
    "name": "ipython",
    "version": 3
   },
   "file_extension": ".py",
   "mimetype": "text/x-python",
   "name": "python",
   "nbconvert_exporter": "python",
   "pygments_lexer": "ipython3",
   "version": "3.11.3"
  }
 },
 "nbformat": 4,
 "nbformat_minor": 5
}

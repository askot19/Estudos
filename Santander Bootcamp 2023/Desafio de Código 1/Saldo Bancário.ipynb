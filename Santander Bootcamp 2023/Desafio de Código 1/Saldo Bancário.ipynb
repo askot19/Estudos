{
 "cells": [
  {
   "cell_type": "markdown",
   "id": "2a2e070f",
   "metadata": {},
   "source": [
    "\n",
    "## Descrição\n",
    "\n",
    "Para esse desafio, considere que você foi contratado por uma empresa bancária para auxiliar nas implementações e melhorias do sistema empresarial. Em uma análise inicial, foi identificado pela equipe financeira a necessidade de desenvolver uma solução que permita ao cliente equilibrar seu saldo bancário. Dessa forma, o programa deve solicitar uma entrada que representa o saldo atual do funcionário, e após, seja informado o valor de duas transações, sendo elas: um depósito e um  saque. O programa deve atualizar o saldo com base nas transações e exibir o saldo final.  \n",
    "  \n",
    "**Informação:**  As transações de depósito e retirada devem ser tratadas como valores positivos e negativos, respectivamente, para garantir que o cálculo do saldo final seja realizado corretamente.  \n",
    "\n",
    "## Entrada\n",
    "\n",
    "`saldoAtual:` um número decimal representando o saldo atual da conta bancária.  \n",
    "`valorDeposito`: um número decimal representando o valor a ser depositado na conta.  \n",
    "`valorRetirada`: um número decimal representando o valor a ser retirado da conta.  \n",
    "  \n",
    "**Regra de Formatação:**  Considere apenas  **uma casa decimal**  para esse desafio.\n",
    "\n",
    "## Saída\n",
    "\n",
    "Um número decimal que representa o saldo atualizado na conta bancária após o processamento das transações.\n",
    "\n",
    "## Exemplos\n",
    "\n",
    "A tabela abaixo apresenta exemplos com alguns dados de entrada e suas respectivas saídas esperadas. Certifique-se de testar seu programa com esses exemplos e com outros casos possíveis.\n",
    "\n",
    "| Entrada | Saída |\n",
    "|--|--|\n",
    "|1000 <br> 500 <br> 200  | Saldo atualizado na conta: 1300.0 |\n",
    "| 100 <br> 10 <br> 50 | Saldo atualizado na conta: 60.0 |"
   ]
  },
  {
   "cell_type": "code",
   "execution_count": 2,
   "id": "0c634bb5",
   "metadata": {},
   "outputs": [
    {
     "name": "stdout",
     "output_type": "stream",
     "text": [
      "Digite seu saldo atual: 1200\n",
      "Digite o valor de depósito: 300\n",
      "Digite o valor de saque: 500\n",
      "Seu saldo atual é: 1000.0\n"
     ]
    }
   ],
   "source": [
    "saldo_atual = float(input('Digite seu saldo atual: '))\n",
    "valor_deposito = float(input('Digite o valor de depósito: '))\n",
    "valor_retirada = float(input('Digite o valor de saque: '))\n",
    "\n",
    "#TODO: Calcular o saldo atualizado de acordo com a descrição deste desafio.\n",
    "\n",
    "#TODO: Imprimir o a saída de conforme a tabela de exemplos (uma casa decimal).\n",
    "\n",
    "saldo_final = round(saldo_atual+valor_deposito-valor_retirada, 1)\n",
    "\n",
    "print(f'Seu saldo atual é: {saldo_final}')"
   ]
  }
 ],
 "metadata": {
  "kernelspec": {
   "display_name": "Python 3 (ipykernel)",
   "language": "python",
   "name": "python3"
  },
  "language_info": {
   "codemirror_mode": {
    "name": "ipython",
    "version": 3
   },
   "file_extension": ".py",
   "mimetype": "text/x-python",
   "name": "python",
   "nbconvert_exporter": "python",
   "pygments_lexer": "ipython3",
   "version": "3.11.3"
  }
 },
 "nbformat": 4,
 "nbformat_minor": 5
}

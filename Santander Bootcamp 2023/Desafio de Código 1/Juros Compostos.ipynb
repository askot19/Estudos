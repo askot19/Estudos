{
 "cells": [
  {
   "cell_type": "markdown",
   "id": "51d3a245",
   "metadata": {},
   "source": [
    "\n",
    "## Desafio\n",
    "\n",
    "Imagine que você está desenvolvendo um aplicativo para um banco que deseja calcular os juros compostos de um investimento. Seu objetivo é criar uma função que receba três parâmetros: o valor inicial do investimento, a taxa de juros anual e o período de tempo em anos. A função deve calcular e retornar o valor final do investimento após o período determinado, levando em consideração os juros compostos.\n",
    "\n",
    "## Entrada:\n",
    "\n",
    "A função deve receber os seguintes parâmetros:\n",
    "\n",
    "valor_inicial: um número inteiro ou decimal representando o valor inicial do investimento.\n",
    "\n",
    "taxa_juros: um número decimal representando a taxa de juros anual. Por exemplo, se a taxa for de 5%, o valor passado será 0.05.\n",
    "\n",
    "periodo: um número inteiro representando a quantidade de anos do investimento.\n",
    "\n",
    "## Saída:\n",
    "\n",
    "A função deve retornar o valor final do investimento após o período determinado, considerando os juros compostos. O valor final deve ser arredondado para duas casas decimais.\n",
    "\n",
    "## Exemplos\n",
    "\n",
    "A tabela abaixo apresenta exemplos com alguns dados de entrada e suas respectivas saídas esperadas. Certifique-se de testar seu programa com esses exemplos e com outros casos possíveis.\n",
    "| Entrada | Saída |\n",
    "|--|--|\n",
    "|5000 <br> 0.08 <br> 5 | Valor final do investimento: R$ 7346.64|"
   ]
  },
  {
   "cell_type": "code",
   "execution_count": 3,
   "id": "f62e23de",
   "metadata": {},
   "outputs": [
    {
     "name": "stdout",
     "output_type": "stream",
     "text": [
      "5000\n",
      "0.08\n",
      "5\n",
      "Valor final do investimento: R$ 7346.64\n"
     ]
    }
   ],
   "source": [
    "valor_inicial = float(input())\n",
    "taxa_juros = float(input())\n",
    "periodo = int(input())\n",
    "\n",
    "valor_final = valor_inicial\n",
    "\n",
    "#TODO: Iterar, baseado no período em anos, para calculo do valorFinal com os juros.\n",
    "valor_final = round(valor_inicial * (1 + taxa_juros)**periodo, 2)\n",
    "print(f\"Valor final do investimento: R$ {valor_final}\")"
   ]
  },
  {
   "cell_type": "code",
   "execution_count": null,
   "id": "0e7d95fb",
   "metadata": {},
   "outputs": [],
   "source": []
  }
 ],
 "metadata": {
  "kernelspec": {
   "display_name": "Python 3 (ipykernel)",
   "language": "python",
   "name": "python3"
  },
  "language_info": {
   "codemirror_mode": {
    "name": "ipython",
    "version": 3
   },
   "file_extension": ".py",
   "mimetype": "text/x-python",
   "name": "python",
   "nbconvert_exporter": "python",
   "pygments_lexer": "ipython3",
   "version": "3.11.3"
  }
 },
 "nbformat": 4,
 "nbformat_minor": 5
}

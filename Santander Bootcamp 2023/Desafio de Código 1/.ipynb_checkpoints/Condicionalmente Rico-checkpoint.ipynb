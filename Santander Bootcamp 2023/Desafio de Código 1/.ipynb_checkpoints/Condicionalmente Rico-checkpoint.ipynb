{
 "cells": [
  {
   "cell_type": "markdown",
   "id": "d276d8fc",
   "metadata": {},
   "source": [
    "\n",
    "## Descrição\n",
    "\n",
    "Uma nova feature para um sistema bancário foi analisada pela equipe de desenvolvimento e será uma das tarefas a serem trabalhadas durante a sprint, como desenvolvedor da empresa você recebeu os requisitos para a nova implementação que consiste em uma solução algorítmica que permita aos clientes realizarem saques em caixas eletrônicos. No entanto, existem algumas regras a serem seguidas para garantir que um saque possa ser realizado com sucesso.\n",
    "\n",
    "**Regras do saque:**\n",
    "\n",
    "- Cada cliente digitará o valor do seu  `saldoTotal`  de sua conta bancária e o  `valorSaque`.  \n",
    "- Um saque só pode ser realizado se o  `saldoDisponível`  na conta for igual ou superior ao valor solicitado.  \n",
    "- Se o saldo for suficiente, o valor solicitado deve ser subtraído do saldo disponível, indicando que o saque foi realizado.  \n",
    "- Se o saldo for insuficiente, o saque não deve ser realizado e uma mensagem adequada deve ser exibida.\n",
    "\n",
    "## Entrada\n",
    "\n",
    "A entrada consiste em dois valores inteiros que representam o total do  `saldo`  da conta e o  `valor`  do  saque.\n",
    "\n",
    "## Saída\n",
    "\n",
    "Se o saque for realizado com sucesso, exibir a mensagem \"`Saque realizado com sucesso! Novo saldo: {saldo}`\", onde  `{saldo}`  é o novo saldo disponível na conta.\n",
    "\n",
    "Se o saque não for possível devido a saldo insuficiente, exibir a mensagem \"`Saldo insuficiente. Saque nao realizado!`\"\n",
    "\n",
    "## Exemplos\n",
    "\n",
    "A tabela abaixo apresenta exemplos com alguns dados de entrada e suas respectivas saídas esperadas. Certifique-se de testar seu programa com esses exemplos e com outros casos possíveis.\n",
    "\n",
    "| Entrada | Saída |\n",
    "|--|--|\n",
    "|1000 <br> 200 <br>  | Saque realizado com sucesso. Novo saldo: 800 |"
   ]
  },
  {
   "cell_type": "code",
   "execution_count": 2,
   "id": "64496e82",
   "metadata": {},
   "outputs": [
    {
     "name": "stdout",
     "output_type": "stream",
     "text": [
      "800\n",
      "1000\n",
      "Saldo insuficiente. Saque nao realizado!\n"
     ]
    }
   ],
   "source": [
    "# Entrada de dados\n",
    "saldo_total = int(input())\n",
    "valor_saque = int(input())\n",
    "\n",
    "# TODO: Criar as condições necessárias para impressão da saída, vide tabela de exemplos.\n",
    "if saldo_total >= valor_saque:\n",
    "    saldo = saldo_total - valor_saque\n",
    "    print(f'Saque realizado com sucesso. Novo saldo: {saldo}')\n",
    "else:\n",
    "    print(f'Saldo insuficiente. Saque nao realizado!')"
   ]
  }
 ],
 "metadata": {
  "kernelspec": {
   "display_name": "Python 3 (ipykernel)",
   "language": "python",
   "name": "python3"
  },
  "language_info": {
   "codemirror_mode": {
    "name": "ipython",
    "version": 3
   },
   "file_extension": ".py",
   "mimetype": "text/x-python",
   "name": "python",
   "nbconvert_exporter": "python",
   "pygments_lexer": "ipython3",
   "version": "3.11.3"
  }
 },
 "nbformat": 4,
 "nbformat_minor": 5
}

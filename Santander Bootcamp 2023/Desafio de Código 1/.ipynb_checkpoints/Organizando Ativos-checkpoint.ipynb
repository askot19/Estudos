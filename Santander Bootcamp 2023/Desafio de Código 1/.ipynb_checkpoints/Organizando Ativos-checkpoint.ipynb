{
 "cells": [
  {
   "cell_type": "markdown",
   "id": "ec1459b1",
   "metadata": {},
   "source": [
    "\n",
    "## Descrição\n",
    "\n",
    "Após uma análise cuidadosa realizada pela equipe de desenvolvimento de uma empresa bancaria, foi identificado a necessidade de uma nova funcionalidade para otimizar os processos e melhorias da experiência dos usuários. Agora, sua tarefa é implementar uma solução que organize em ordem alfabética uma lista de ativos que será informada pelos usuários. Os ativos são representados por strings que representam seus tipos, como por exemplo: Reservas de liquidez, Ativos intangiveis e dentre outros.\n",
    "\n",
    "## Entrada\n",
    "\n",
    "A primeira entrada consiste em um número inteiro que representa a quantidade de ativos que o usuário possui. Em seguida, o usuário deverá informar, em linhas separadas, os tipos (strings) dos respectivos ativos.\n",
    "\n",
    "## Saída\n",
    "\n",
    "Seu programa deve exibir a lista de Ativos organizada em ordem alfabética. Cada ativo deve ser apresentado em uma linha separada.\n",
    "\n",
    "## Exemplos\n",
    "\n",
    "A tabela abaixo apresenta exemplos com alguns dados de entrada e suas respectivas saídas esperadas. Certifique-se de testar seu programa com esses exemplos e com outros casos possíveis.\n",
    "| Entrada | Saída |\n",
    "|--|--|\n",
    "|3 <br> Financiamento <br> Deposito <br> Reserva Bancaria  | Deposito <br> Financiamento <br> Reserva Bancaria |"
   ]
  },
  {
   "cell_type": "code",
   "execution_count": 2,
   "id": "527f48bc",
   "metadata": {},
   "outputs": [
    {
     "name": "stdout",
     "output_type": "stream",
     "text": [
      "3\n",
      "Financiamento de Imovel\n",
      "Deposito\n",
      "Reservas Bancarias\n",
      "Deposito\n",
      "Financiamento de Imovel\n",
      "Reservas Bancarias\n"
     ]
    }
   ],
   "source": [
    "ativos = []\n",
    "\n",
    "# Entrada da quantidade de ativos\n",
    "quantidadeAtivos = int(input())\n",
    "\n",
    "# Entrada dos códigos dos ativos\n",
    "for _ in range(quantidadeAtivos):\n",
    "    codigoAtivo = input()\n",
    "    ativos.append(codigoAtivo)\n",
    "\n",
    "# TODO: Ordenar os ativos em ordem alfabética.\n",
    "\n",
    "ativos.sort()\n",
    "\n",
    "# TODO: Imprimir a lista de ativos ordenada, conforme a tabela de exemplos.\n",
    "\n",
    "for ativo in ativos:\n",
    "    print(ativo)"
   ]
  }
 ],
 "metadata": {
  "kernelspec": {
   "display_name": "Python 3 (ipykernel)",
   "language": "python",
   "name": "python3"
  },
  "language_info": {
   "codemirror_mode": {
    "name": "ipython",
    "version": 3
   },
   "file_extension": ".py",
   "mimetype": "text/x-python",
   "name": "python",
   "nbconvert_exporter": "python",
   "pygments_lexer": "ipython3",
   "version": "3.11.3"
  }
 },
 "nbformat": 4,
 "nbformat_minor": 5
}

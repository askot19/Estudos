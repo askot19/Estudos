{
 "cells": [
  {
   "cell_type": "markdown",
   "id": "0e94c69c",
   "metadata": {},
   "source": [
    "\n",
    "## Desafio\n",
    "\n",
    "Você foi contratado por um banco para desenvolver um programa que auxilie seus clientes a realizar depósitos em suas contas. O programa deve solicitar ao cliente o valor do depósito e verificar se o valor é válido. Se o valor for maior do que zero, o programa deve adicionar o valor ao saldo da conta. Caso contrário, o programa deve exibir uma mensagem de erro. O programa deve soliticar apenas uma vez o valor de depósito.\n",
    "\n",
    "## Entrada\n",
    "\n",
    "O programa deve utilizar o  `Scanner`  para receber o valor de depósito digitado pelo cliente. Os valor pode ser decimal, representando valor em reais.\n",
    "\n",
    "## Saída\n",
    "\n",
    "O programa deve exibir uma mensagem de sucesso quando um valor de depósito válido for informado e o saldo da conta for atualizado. Se o valor for \"0\", deverá imprimir uma mensagem encerrando o programa. Caso um valor inválido seja digitado, o programa deve exibir uma mensagem de erro solicitando um novo valor.\n",
    "\n",
    "## Exemplos\n",
    "\n",
    "A tabela abaixo apresenta exemplos com alguns dados de entrada e suas respectivas saídas esperadas. Certifique-se de testar seu programa com esses exemplos e com outros casos possíveis.\n",
    "| Entrada | Saída |\n",
    "|--|--|\n",
    "|500.50 <br> -100 <br> 0 | Deposito realizado com sucesso! Saldo atual: R$ 500.50 <br> Valor invalido! Digite um valor maior que zero. <br> Encerrando o programa...|"
   ]
  },
  {
   "cell_type": "code",
   "execution_count": 6,
   "id": "52af3ed9",
   "metadata": {},
   "outputs": [
    {
     "name": "stdout",
     "output_type": "stream",
     "text": [
      "500.50\n",
      "Deposito realizado com sucesso!\n",
      "Saldo atual: R$ 500.50\n"
     ]
    }
   ],
   "source": [
    "valor = float(input())\n",
    "\n",
    "if valor > 0:\n",
    "    #TODO: Imprimir a mensagem de sucesso, formatando o saldo atual (vide Exemplos).\n",
    "    print(f'Deposito realizado com sucesso!')\n",
    "    print(f'Saldo atual: R$ {valor:.2f}')\n",
    "elif valor == 0:\n",
    "   #TODO: Imprimir a mensagem de valor inválido.\n",
    "   print(f'Encerrando o programa...')\n",
    "else:\n",
    "  #TODO: Imprimir a mensagem de encerrar o programa.\n",
    "  print(f'Valor invalido! Digite um valor maior que zero.')"
   ]
  },
  {
   "cell_type": "code",
   "execution_count": null,
   "id": "a6da9533",
   "metadata": {},
   "outputs": [],
   "source": []
  }
 ],
 "metadata": {
  "kernelspec": {
   "display_name": "Python 3 (ipykernel)",
   "language": "python",
   "name": "python3"
  },
  "language_info": {
   "codemirror_mode": {
    "name": "ipython",
    "version": 3
   },
   "file_extension": ".py",
   "mimetype": "text/x-python",
   "name": "python",
   "nbconvert_exporter": "python",
   "pygments_lexer": "ipython3",
   "version": "3.11.3"
  }
 },
 "nbformat": 4,
 "nbformat_minor": 5
}

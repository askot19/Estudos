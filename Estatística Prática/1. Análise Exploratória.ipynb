{
 "cells": [
  {
   "cell_type": "code",
   "execution_count": 16,
   "id": "10b3479c",
   "metadata": {},
   "outputs": [],
   "source": [
    "import pandas as pd\n",
    "import seaborn as sns\n",
    "import numpy as np\n",
    "import matplotlib.pyplot as plt\n",
    "from scipy.stats import trim_mean"
   ]
  },
  {
   "cell_type": "markdown",
   "id": "b1c33998",
   "metadata": {},
   "source": [
    "## Métricas Robustas para Localização"
   ]
  },
  {
   "cell_type": "code",
   "execution_count": 17,
   "id": "a15c066a",
   "metadata": {},
   "outputs": [],
   "source": [
    "homicidio = {'Estado': {0: 'Alabama',\n",
    "                        1: 'Alasca',\n",
    "                        2: 'Arizona',\n",
    "                        3: 'Arkansas',\n",
    "                        4: 'Califórnia',\n",
    "                        5: 'Colorado',\n",
    "                        6: 'Connecticut',\n",
    "                        7: 'Delaware'\n",
    "    \n",
    "},\n",
    "    'População': {\n",
    "        0: 4779736,\n",
    "        1: 710231,\n",
    "        2: 6392017,\n",
    "        3: 2915918,\n",
    "        4: 37252956,\n",
    "        5: 5029196,\n",
    "        6: 3574097,\n",
    "        7: 897934\n",
    "        \n",
    "    },\n",
    "             'Taxa de Homicídio': {0: 5.7,\n",
    "                                  1: 5.6,\n",
    "                                  2: 4.7,\n",
    "                                  3: 5.6,\n",
    "                                  4: 4.4,\n",
    "                                  5: 2.8,\n",
    "                                   6: 2.4,\n",
    "                                   7: 5.8\n",
    "                                  }\n",
    "}"
   ]
  },
  {
   "cell_type": "code",
   "execution_count": 18,
   "id": "f5457ea2",
   "metadata": {},
   "outputs": [
    {
     "data": {
      "text/html": [
       "<div>\n",
       "<style scoped>\n",
       "    .dataframe tbody tr th:only-of-type {\n",
       "        vertical-align: middle;\n",
       "    }\n",
       "\n",
       "    .dataframe tbody tr th {\n",
       "        vertical-align: top;\n",
       "    }\n",
       "\n",
       "    .dataframe thead th {\n",
       "        text-align: right;\n",
       "    }\n",
       "</style>\n",
       "<table border=\"1\" class=\"dataframe\">\n",
       "  <thead>\n",
       "    <tr style=\"text-align: right;\">\n",
       "      <th></th>\n",
       "      <th>Estado</th>\n",
       "      <th>População</th>\n",
       "      <th>Taxa de Homicídio</th>\n",
       "    </tr>\n",
       "  </thead>\n",
       "  <tbody>\n",
       "    <tr>\n",
       "      <th>0</th>\n",
       "      <td>Alabama</td>\n",
       "      <td>4779736</td>\n",
       "      <td>5.7</td>\n",
       "    </tr>\n",
       "    <tr>\n",
       "      <th>1</th>\n",
       "      <td>Alasca</td>\n",
       "      <td>710231</td>\n",
       "      <td>5.6</td>\n",
       "    </tr>\n",
       "    <tr>\n",
       "      <th>2</th>\n",
       "      <td>Arizona</td>\n",
       "      <td>6392017</td>\n",
       "      <td>4.7</td>\n",
       "    </tr>\n",
       "    <tr>\n",
       "      <th>3</th>\n",
       "      <td>Arkansas</td>\n",
       "      <td>2915918</td>\n",
       "      <td>5.6</td>\n",
       "    </tr>\n",
       "    <tr>\n",
       "      <th>4</th>\n",
       "      <td>Califórnia</td>\n",
       "      <td>37252956</td>\n",
       "      <td>4.4</td>\n",
       "    </tr>\n",
       "    <tr>\n",
       "      <th>5</th>\n",
       "      <td>Colorado</td>\n",
       "      <td>5029196</td>\n",
       "      <td>2.8</td>\n",
       "    </tr>\n",
       "    <tr>\n",
       "      <th>6</th>\n",
       "      <td>Connecticut</td>\n",
       "      <td>3574097</td>\n",
       "      <td>2.4</td>\n",
       "    </tr>\n",
       "    <tr>\n",
       "      <th>7</th>\n",
       "      <td>Delaware</td>\n",
       "      <td>897934</td>\n",
       "      <td>5.8</td>\n",
       "    </tr>\n",
       "  </tbody>\n",
       "</table>\n",
       "</div>"
      ],
      "text/plain": [
       "        Estado  População  Taxa de Homicídio\n",
       "0      Alabama    4779736                5.7\n",
       "1       Alasca     710231                5.6\n",
       "2      Arizona    6392017                4.7\n",
       "3     Arkansas    2915918                5.6\n",
       "4   Califórnia   37252956                4.4\n",
       "5     Colorado    5029196                2.8\n",
       "6  Connecticut    3574097                2.4\n",
       "7     Delaware     897934                5.8"
      ]
     },
     "execution_count": 18,
     "metadata": {},
     "output_type": "execute_result"
    }
   ],
   "source": [
    "dados = pd.DataFrame(homicidio)\n",
    "dados"
   ]
  },
  {
   "cell_type": "code",
   "execution_count": 29,
   "id": "5eb1ec78",
   "metadata": {},
   "outputs": [
    {
     "data": {
      "text/plain": [
       "7694010.625"
      ]
     },
     "execution_count": 29,
     "metadata": {},
     "output_type": "execute_result"
    }
   ],
   "source": [
    "# média\n",
    "dados['População'].mean()"
   ]
  },
  {
   "cell_type": "code",
   "execution_count": 27,
   "id": "e53baf06",
   "metadata": {},
   "outputs": [
    {
     "data": {
      "text/plain": [
       "7694010.625"
      ]
     },
     "execution_count": 27,
     "metadata": {},
     "output_type": "execute_result"
    }
   ],
   "source": [
    "# média aparada\n",
    "trim_mean(dados.População, 0.1)"
   ]
  },
  {
   "cell_type": "code",
   "execution_count": 30,
   "id": "b7d2fcde",
   "metadata": {},
   "outputs": [
    {
     "data": {
      "text/plain": [
       "4176916.5"
      ]
     },
     "execution_count": 30,
     "metadata": {},
     "output_type": "execute_result"
    }
   ],
   "source": [
    "# mediana\n",
    "dados['População'].median()"
   ]
  },
  {
   "cell_type": "markdown",
   "id": "06bd9ba9",
   "metadata": {},
   "source": [
    "## Estimativas de Variabilidade"
   ]
  },
  {
   "cell_type": "code",
   "execution_count": null,
   "id": "3603de84",
   "metadata": {},
   "outputs": [],
   "source": []
  }
 ],
 "metadata": {
  "kernelspec": {
   "display_name": "Python 3 (ipykernel)",
   "language": "python",
   "name": "python3"
  },
  "language_info": {
   "codemirror_mode": {
    "name": "ipython",
    "version": 3
   },
   "file_extension": ".py",
   "mimetype": "text/x-python",
   "name": "python",
   "nbconvert_exporter": "python",
   "pygments_lexer": "ipython3",
   "version": "3.9.13"
  }
 },
 "nbformat": 4,
 "nbformat_minor": 5
}
